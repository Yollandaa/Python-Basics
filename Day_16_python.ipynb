{
 "cells": [
  {
   "cell_type": "markdown",
   "metadata": {},
   "source": [
    "# Day 16: Back to Python with numpy"
   ]
  },
  {
   "cell_type": "markdown",
   "metadata": {},
   "source": [
    "Writing the code in notebook"
   ]
  },
  {
   "cell_type": "code",
   "execution_count": 1,
   "metadata": {},
   "outputs": [],
   "source": [
    "import json\n",
    "from pprint import pprint"
   ]
  },
  {
   "cell_type": "code",
   "execution_count": 2,
   "metadata": {},
   "outputs": [
    {
     "name": "stdout",
     "output_type": "stream",
     "text": [
      "{'posts_summary': [{'title': 'The Future of AI', 'author': 'Alice', 'number_of_comments': 2}, {'title': 'Learning Python', 'author': 'Bob', 'number_of_comments': 1}, {'title': 'Web Development Trends', 'author': 'Charlie', 'number_of_comments': 0}]}\n"
     ]
    }
   ],
   "source": [
    "# Task\n",
    "# Starting blog_post.json\n",
    "\n",
    "# Expected output posts_summary.json\n",
    "\n",
    "# Read a file\n",
    "with open(\"blog_post.json\", \"r\") as file:\n",
    "    data = json.load(file)\n",
    "\n",
    "posts_summary = []\n",
    "data1 = data[\"posts\"]\n",
    "for dt in data1:\n",
    "    posts_summary.append(\n",
    "        {\n",
    "            \"title\": dt[\"title\"],\n",
    "            \"author\": dt[\"author\"],\n",
    "            \"number_of_comments\": len(dt[\"comments\"]),\n",
    "        }\n",
    "    )\n",
    "\n",
    "# Now put posts_summary in a dictionary with key as posts_summary\n",
    "dict = {\"posts_summary\": posts_summary}\n",
    "print(dict)\n",
    "\n",
    "# Now write it to file\n",
    "with open(\"posts_summary1.json\", \"w\") as file:\n",
    "    json.dump(dict, file, indent=4)\n"
   ]
  }
 ],
 "metadata": {
  "kernelspec": {
   "display_name": "Python 3",
   "language": "python",
   "name": "python3"
  },
  "language_info": {
   "codemirror_mode": {
    "name": "ipython",
    "version": 3
   },
   "file_extension": ".py",
   "mimetype": "text/x-python",
   "name": "python",
   "nbconvert_exporter": "python",
   "pygments_lexer": "ipython3",
   "version": "3.10.8"
  }
 },
 "nbformat": 4,
 "nbformat_minor": 2
}
